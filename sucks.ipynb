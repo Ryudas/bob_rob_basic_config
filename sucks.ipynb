{
 "cells": [
  {
   "cell_type": "code",
   "execution_count": 1,
   "metadata": {},
   "outputs": [],
   "source": [
    "# the Free Software Foundation, either version 3 of the License, or\n",
    "# (at your option) any later version.\n",
    "#\n",
    "# This program is distributed in the hope that it will be useful,\n",
    "# but WITHOUT ANY WARRANTY; without even the implied warranty of\n",
    "# MERCHANTABILITY or FITNESS FOR A PARTICULAR PURPOSE.  See the\n",
    "# GNU General Public License for more details.\n",
    "#\n",
    "# You should have received a copy of the GNU General Public License\n",
    "# along with this program.  If not, see <http://www.gnu.org/licenses/>.\n",
    "\n",
    "import numpy as np\n",
    "import math3d as m3d\n",
    "import math\n",
    "import sys\n",
    "import urx\n",
    "from time import sleep\n",
    "from svgpathtools import svg2paths, Arc, Line, QuadraticBezier, CubicBezier\n",
    "\n",
    "np.set_printoptions(precision=3)\n",
    "# 192.168.0.2  \n",
    "r = urx.Robot(\"192.168.0.2\", use_rt=True)  \n",
    "r.set_tcp((0, 0, 0.076, 0, 0, 0))\n",
    "r.set_payload(1.076)\n",
    "sleep(0.2) \n",
    " \n",
    "a = 0.1 # max acceleration m/s^2  \n",
    "v = 0.3 # max velocity m/s\n",
    "hover = 0.02 # hover over canvas while not painting\n",
    "feed = 0.003 # brush feed while painting in m/m\n",
    "offset = 0.008 # initial brush when starting to paint in m\n",
    "\n",
    "paint_depth = 0.100     # depth of color pot in m\n",
    "in_paint_duration = 0.5 # duration for brush in paint pot in s\n",
    "drop_off_duration = 1   # duration to stay over paint pot in s\n",
    "\n",
    "r.set_csys(m3d.Transform())\n",
    "\n",
    "\n"
   ]
  },
  {
   "cell_type": "code",
   "execution_count": 2,
   "metadata": {},
   "outputs": [],
   "source": [
    "# Joint configurations:\n",
    "# Make sure that a free path exists between any of those!\n",
    "j_home         = ( 0    , -math.pi/2,  0, -math.pi/2, 0, 0)\n",
    "j_paint_above  = (-1.257, -1.332, -2.315, -1.065, 1.571,  0.313)\n",
    "j_canvas_above = (-0.671, -1.464, -1.975,  0.026, 2.302, -0.169)\n",
    "j_brush_change = (0.0, -0.725, -2.153, -1.570, 0, 0)\n",
    "\n"
   ]
  },
  {
   "cell_type": "code",
   "execution_count": 3,
   "metadata": {},
   "outputs": [
    {
     "name": "stdout",
     "output_type": "stream",
     "text": [
      "Warning: Orthonormalizing y_vec on x_vec!\n"
     ]
    }
   ],
   "source": [
    "# Canvas coordinates (base csys):\n",
    "# p0 ---------> px\n",
    "# |\n",
    "# |\n",
    "# py                   \n",
    "p0 = m3d.Transform(( 0.542,  0.241,  0.677, -1.497,  1.332, -1.134))\n",
    "px = m3d.Transform(( 0.543, -0.509,  0.668, -1.497,  1.332, -1.134))\n",
    "py = m3d.Transform(( 0.437,  0.245,  0.137, -1.497,  1.333, -1.134))\n",
    "\n",
    "dx = px.pos - p0.pos\n",
    "dy = py.pos - p0.pos\n",
    "canvas_coordinates = m3d.Transform.new_from_xyp(dx, dy, p0.pos)\n",
    "\n",
    "# Paint pot coordinates:\n",
    "paint = {\"red\":    (-0.12, -0.280, 0.08, 0, np.pi, 0),\n",
    "         \"yellow\": (-0.04, -0.280, 0.08, 0, np.pi, 0),\n",
    "         \"blue\":   ( 0.04, -0.280, 0.08, 0, np.pi, 0),\n",
    "         \"black\":  ( 0.12, -0.285, 0.08, 0, np.pi, 0)}\n",
    "\n",
    "# Paint drop removal coordinates:\n",
    "mesh  = {\"red\":    m3d.Vector(-0.12, -0.40, 0.057),\n",
    "         \"yellow\": m3d.Vector(-0.04, -0.40, 0.055),\n",
    "         \"blue\":   m3d.Vector( 0.04, -0.40, 0.054),\n",
    "         \"black\":  m3d.Vector( 0.12, -0.40, 0.053)}\n",
    "\n",
    "# Brush calibration point\n",
    "brush_calib_above = (-0.168, -0.315, 0.080, 0, np.pi, 0)\n",
    "brush_calib_down  = (-0.168, -0.315, 0.027, 0, np.pi, 0)\n",
    "\n",
    "def brush_transform(index, angle, length):\n",
    "    rot = m3d.Orientation.new_rot_z(index * np.pi / 2)\n",
    "    rot.rotate_x(angle)\n",
    "    vec = m3d.Transform(rot, (0, 0, 0)) * m3d.Vector(0, 0, length)\n",
    "    return m3d.Transform(rot, vec)\n",
    "\n",
    "# Brush calibration parameters\n",
    "brush = {\"red\":    brush_transform(-1, 34 * np.pi / 180, 0.143),\n",
    "         \"yellow\": brush_transform( 0, 31 * np.pi / 180, 0.148),\n",
    "         \"blue\":   brush_transform( 1, 30 * np.pi / 180, 0.144),\n",
    "         \"black\":  brush_transform( 2, 31 * np.pi / 180, 0.144)}\n",
    "\n",
    "def move_home():\n",
    "    print \"Move to home\"\n",
    "    r.movej(j_home, acc=1.0, vel=v)\n",
    "\n",
    "def move_to_canvas(): \n",
    "    print \"Move to canvas\"\n",
    "    j = r.getj() # Keep orientation of last joint\n",
    "    r.movej(j_canvas_above[:5] + (j[5],), acc=a, vel=v)\n",
    "\n",
    "def move_to_paint():\n",
    "    print \"Move to paint\"\n",
    "    r.movej(j_paint_above, acc=a, vel=v)\n",
    "    #j = r.getj() # Keep orientation of last joint\n",
    "    #r.movej(j_paint_above[:5] + (j[5],), acc=a, vel=v)\n",
    "    \n",
    "def move_to_brush_change():\n",
    "    print \"Move to brush change\"\n",
    "    r.movej(j_brush_change, acc=a, vel=v)\n",
    "\n",
    "def move_to_brush_calibration(stroke):\n",
    "    print \"Set base coordiante system\"\n",
    "    r.set_csys(m3d.Transform())\n",
    "\n",
    "    print \"Calibrate brush\"\n",
    "    #   Move with no brush selected to avoid extreme rotations of last joint\n",
    "    r.set_tcp((0, 0, 0.15, 0, 0, 0))\n",
    "    print \"  Move over calibration point\"\n",
    "    r.movel(brush_calib_above, acc=a, vel=v)\n",
    "    #   Select brush\n",
    "    r.set_tcp(brush[stroke])\n",
    "    r.movel(brush_calib_above, acc=a, vel=v)\n",
    "    #   Move into color\n",
    "    print \"  Move to calibration point\"\n",
    "    r.movel(brush_calib_down, acc=a/2, vel=v/4)\n",
    "\n",
    "def calibrate_brush(stroke):\n",
    "    move_to_brush_calibration(stroke)\n",
    "    raw_input(\"Measure brush length and press enter to continue...\")\n",
    "    r.movel(brush_calib_above, acc=a, vel=v)\n",
    "\n",
    "def move_to_canvas_origin(stroke):\n",
    "    print \"Set canvas coordinate system\"\n",
    "    r.set_csys(canvas_coordinates)\n",
    "    r.set_tcp(brush[stroke])\n",
    "    r.movel((0, 0, -hover, 0, 0, 0), acc=a, vel=v)\n",
    "\n",
    "def move_to_canvas_xaxis(stroke):\n",
    "    print \"Set canvas coordinate system\"\n",
    "    r.set_csys(canvas_coordinates)\n",
    "    r.set_tcp(brush[stroke])\n",
    "    r.movel((0.75, 0, -hover, 0, 0, 0), acc=a, vel=v)\n",
    "\n",
    "def move_to_canvas_yaxis(stroke):\n",
    "    print \"Set canvas coordinate system\"\n",
    "    r.set_csys(canvas_coordinates)\n",
    "    r.set_tcp(brush[stroke])\n",
    "    r.movel((0, 0.55, -hover, 0, 0, 0), acc=a, vel=v)\n",
    "\n",
    "\n"
   ]
  },
  {
   "cell_type": "code",
   "execution_count": 4,
   "metadata": {},
   "outputs": [],
   "source": [
    "def get_paint(stroke):\n",
    "    print \"Set base coordiante system\"\n",
    "    r.set_csys(m3d.Transform())\n",
    "\n",
    "    # TODO: check current position\n",
    "    print \"  Distance to pots:\", r._get_joints_dist(j_paint_above)\n",
    "\n",
    "    print \"Get new paint\"\n",
    "    #   Move with no brush selected to avoid extreme rotations of last joint\n",
    "    r.set_tcp((0, 0, 0.15, 0, 0, 0))\n",
    "    print \"  Move over color pot\"\n",
    "    r.movel(paint[stroke], acc=a, vel=v)\n",
    "    # TODO:  Measure color depth\n",
    "    \n",
    "    #   Select brush\n",
    "    r.set_tcp(brush[stroke])\n",
    "    r.movel(paint[stroke], acc=a, vel=v)\n",
    "    #   Move into color\n",
    "    print \"  Move into color pot\"\n",
    "    r.down(z=paint_depth, acc=a/2, vel=v/3)\n",
    "    sleep(in_paint_duration)\n",
    "\n",
    "    print \"  Move over color pot\"\n",
    "    r.movel(paint[stroke], acc=a, vel=v)\n",
    "    print \"  Wait for color to drop off\"\n",
    "    sleep(drop_off_duration)\n",
    "    \n",
    "    print \"  Remove paint from tip of brush\"\n",
    "    radius = 0.018\n",
    "    circle = [m3d.Transform(m3d.Orientation.new_rot_z(i * np.pi / 6), (0, 0, 0)) * m3d.Vector(-radius, -radius, 0) for i in range(8)]\n",
    "    circle = [m3d.Transform((0, np.pi, 0), mesh[stroke] + c) for c in circle]\n",
    "    circle.append(m3d.Transform(paint[stroke]))\n",
    "    r.movels(circle, acc=a, vel=v/4)\n",
    "\n",
    "def paint_path(path):\n",
    "    print \"Set canvas coordinate system\"\n",
    "    r.set_csys(canvas_coordinates)\n",
    "\n",
    "    # TODO: check current position\n",
    "    print \"  Distance to canvas:\", r._get_joints_dist(j_canvas_above)\n",
    "\n",
    "    print \"Paint path\"\n",
    "    for sub in path.continuous_subpaths():\n",
    "        print \"  Paint continuous sub path with length %smm\" % (round(sub.length()))\n",
    "        r.movel((sub.start.real / 1e3, sub.start.imag / 1e3, -hover, 0, 0, 0), acc=a, vel=v)\n",
    "        poses = []\n",
    "        acc_dist = 0\n",
    "        for seg in sub:\n",
    "            if isinstance(seg, Line):\n",
    "                #print \"    \", seg, \"length:\", seg.length()\n",
    "                poses.append((seg.start.real / 1e3, seg.start.imag / 1e3, offset + feed * acc_dist / 1e3, 0, 0, 0))\n",
    "                acc_dist += seg.length()\n",
    "            elif isinstance(seg, Arc):\n",
    "                print \"TODO: Arc not yet supported\"\n",
    "            elif isinstance(seg, QuadraticBezier):\n",
    "                print \"TODO: QuadraticBezier not yet supported\"\n",
    "            elif isinstance(seg, CubicBezier):\n",
    "                print \"TODO: CubicBezier not yet supported\"\n",
    "        poses.append((sub.end.real / 1e3, sub.end.imag / 1e3, offset, 0, 0, 0))\n",
    "        poses.append((sub.end.real / 1e3, sub.end.imag / 1e3, -hover, 0, 0, 0))\n",
    "        r.movels(poses, acc=a, vel=v/4, threshold=0.001)\n",
    "    # If we are on left side of canvas move to save position first\n",
    "    r.movel((0.6, 0.3, -hover, 0, 0, 0), acc=a, vel=v)\n",
    "\n",
    "def paint_svg(paths, attributes):\n",
    "    i = 0\n",
    "    for (path, attr) in zip(paths, attributes):\n",
    "        stroke = attr['stroke']\n",
    "        print \"Path\", i, \"with color\", stroke, \"of length\", round(path.length())\n",
    "\n",
    "        move_to_paint()\n",
    "        try:\n",
    "            get_paint(stroke)\n",
    "            move_to_canvas()\n",
    "            paint_path(path)\n",
    "        except Exception as e:\n",
    "            print \"ERROR:\", e\n",
    "            raw_input(\"Press enter to continue... \")\n",
    "\n",
    "        i += 1\n",
    "\n",
    "\n",
    "\n",
    "\n"
   ]
  },
  {
   "cell_type": "code",
   "execution_count": 5,
   "metadata": {},
   "outputs": [
    {
     "name": "stdout",
     "output_type": "stream",
     "text": [
      "Move to paint\n",
      "Tool pose is:  [-1.005e-03 -3.547e-01  7.912e-02  7.085e-03  3.138e+00  2.234e-04]\n",
      "Robot joints:  [-1.2570059935199183, -1.3320053259478968, -2.3150249163257044, -1.0650561491595667, 1.5709847211837769, 0.3129553198814392]\n"
     ]
    }
   ],
   "source": [
    "if __name__ == '__main__':\n",
    "    try:\n",
    "        move_to_paint()\n",
    "       # move_home()\n",
    "        \n",
    "       # paths, attributes = svg2paths(sys.argv[1])\n",
    "       # paint_svg(paths, attributes)\n",
    "    except Exception as e:\n",
    "        print \"ERROR:\", e\n",
    "        raw_input(\"Press enter to continue... \")\n",
    "    \n",
    "    \n",
    "   # move_to_canvas() \n",
    "    #move_home()\n",
    "\n",
    "    r.stopj()\n",
    "    p = r.getl()\n",
    "    print \"Tool pose is: \", np.array(p)\n",
    "    print \"Robot joints: \", r.getj()\n",
    "    \n",
    "    r.secmon.close()\n",
    "    r.rtmon.close()\n",
    "    r = None\n",
    "\n"
   ]
  },
  {
   "cell_type": "code",
   "execution_count": 5,
   "metadata": {},
   "outputs": [],
   "source": [
    "r.set_tcp((0, 0, 0.076, 0, 0, 0))"
   ]
  },
  {
   "cell_type": "code",
   "execution_count": 6,
   "metadata": {},
   "outputs": [],
   "source": [
    "r.set_tcp((0, 0, 0.2, 0, 0, 0))"
   ]
  },
  {
   "cell_type": "code",
   "execution_count": 7,
   "metadata": {},
   "outputs": [],
   "source": [
    "r.set_tcp((0,0,0.076,0,0,0))"
   ]
  },
  {
   "cell_type": "code",
   "execution_count": 8,
   "metadata": {},
   "outputs": [],
   "source": [
    "r.set_payload(1)"
   ]
  },
  {
   "cell_type": "code",
   "execution_count": 9,
   "metadata": {},
   "outputs": [],
   "source": [
    "r.set_payload(1)"
   ]
  },
  {
   "cell_type": "code",
   "execution_count": 10,
   "metadata": {},
   "outputs": [
    {
     "ename": "TypeError",
     "evalue": "move_to_canvas_origin() takes exactly 1 argument (0 given)",
     "output_type": "error",
     "traceback": [
      "\u001b[0;31m---------------------------------------------------------------------------\u001b[0m",
      "\u001b[0;31mTypeError\u001b[0m                                 Traceback (most recent call last)",
      "\u001b[0;32m<ipython-input-10-e4cb0c2c7b8a>\u001b[0m in \u001b[0;36m<module>\u001b[0;34m()\u001b[0m\n\u001b[0;32m----> 1\u001b[0;31m \u001b[0mmove_to_canvas_origin\u001b[0m\u001b[0;34m(\u001b[0m\u001b[0;34m)\u001b[0m\u001b[0;34m\u001b[0m\u001b[0m\n\u001b[0m",
      "\u001b[0;31mTypeError\u001b[0m: move_to_canvas_origin() takes exactly 1 argument (0 given)"
     ]
    },
    {
     "name": "stderr",
     "output_type": "stream",
     "text": [
      "No handlers could be found for logger \"ursecmon\"\n"
     ]
    }
   ],
   "source": [
    "move_to_canvas_origin()\n"
   ]
  },
  {
   "cell_type": "code",
   "execution_count": 11,
   "metadata": {},
   "outputs": [],
   "source": [
    "j_draw_origin = (-1.571, -2.146755, -1.780, math.pi/4, math.pi/2,  0)"
   ]
  },
  {
   "cell_type": "code",
   "execution_count": 12,
   "metadata": {},
   "outputs": [
    {
     "data": {
      "text/plain": [
       "[-3.5587941304981996e-05,\n",
       " -1.5709880034076136,\n",
       " -4.7985707418263246e-05,\n",
       " -1.570676628743307,\n",
       " 0.00014381069922819734,\n",
       " 5.992112710373476e-05]"
      ]
     },
     "execution_count": 12,
     "metadata": {},
     "output_type": "execute_result"
    }
   ],
   "source": [
    "r.movej(j_home, acc=1.0, vel=v)"
   ]
  },
  {
   "cell_type": "code",
   "execution_count": 13,
   "metadata": {},
   "outputs": [
    {
     "data": {
      "text/plain": [
       "[-1.5710590521441858,\n",
       " -2.146731678639547,\n",
       " -1.7800543943988245,\n",
       " 0.7852739095687866,\n",
       " 1.570469856262207,\n",
       " -2.366701234990387e-05]"
      ]
     },
     "execution_count": 13,
     "metadata": {},
     "output_type": "execute_result"
    }
   ],
   "source": [
    "r.movej(j_draw_origin, acc=1.0, vel=v)"
   ]
  },
  {
   "cell_type": "code",
   "execution_count": 14,
   "metadata": {},
   "outputs": [],
   "source": [
    "r.set_digital_out(0, True)"
   ]
  },
  {
   "cell_type": "code",
   "execution_count": 15,
   "metadata": {},
   "outputs": [],
   "source": [
    "r.set_digital_out(0, False)"
   ]
  },
  {
   "cell_type": "code",
   "execution_count": 17,
   "metadata": {},
   "outputs": [
    {
     "data": {
      "text/plain": [
       "<Transform:\n",
       "<Orientation: \n",
       "array([[-1.   ,  0.003, -0.006],\n",
       "       [ 0.006, -0.001, -1.   ],\n",
       "       [-0.003, -1.   ,  0.001]])>\n",
       "<Vector: (-0.21218, -0.66571, 0.26258)>\n",
       ">"
      ]
     },
     "execution_count": 17,
     "metadata": {},
     "output_type": "execute_result"
    }
   ],
   "source": [
    "r.translate_tool((0.1, 0,0))\n",
    "r.translate_tool((0, 0.1,0))\n",
    "r.translate_tool((-0.2, 0,0))\n",
    "r.translate_tool((0, -0.1,0))"
   ]
  },
  {
   "cell_type": "code",
   "execution_count": 20,
   "metadata": {},
   "outputs": [
    {
     "data": {
      "text/plain": [
       "<Transform:\n",
       "<Orientation: \n",
       "array([[-1.000e+00,  2.802e-03, -5.882e-03],\n",
       "       [ 5.879e-03, -8.631e-04, -1.000e+00],\n",
       "       [-2.807e-03, -1.000e+00,  8.466e-04]])>\n",
       "<Vector: (-0.01227, -0.66687, 0.26308)>\n",
       ">"
      ]
     },
     "execution_count": 20,
     "metadata": {},
     "output_type": "execute_result"
    }
   ],
   "source": [
    "r.translate_tool((0.1, 0,0))\n",
    "r.translate_tool((0, 0.1,0))\n",
    "r.translate_tool((-0.2, 0,0))\n",
    "r.translate_tool((0, -0.1,0))"
   ]
  },
  {
   "cell_type": "code",
   "execution_count": 26,
   "metadata": {},
   "outputs": [
    {
     "data": {
      "text/plain": [
       "<Transform:\n",
       "<Orientation: \n",
       "array([[-1.   ,  0.003, -0.006],\n",
       "       [ 0.006, -0.001, -1.   ],\n",
       "       [-0.003, -1.   ,  0.001]])>\n",
       "<Vector: (-0.11236, -0.66629, 0.26272)>\n",
       ">"
      ]
     },
     "execution_count": 26,
     "metadata": {},
     "output_type": "execute_result"
    }
   ],
   "source": [
    "# draw rectangle \n",
    "r.translate_tool((0.1, 0,0),  acc=1.0, vel=v)\n",
    "r.translate_tool((0, 0.1,0),  acc=1.0, vel=v)\n",
    "r.translate_tool((-0.2, 0,0),  acc=1.0, vel=v)\n",
    "r.translate_tool((0, -0.1,0),  acc=1.0, vel=v)\n",
    "r.translate_tool((0.1, 0,0),  acc=1.0, vel=v)"
   ]
  },
  {
   "cell_type": "code",
   "execution_count": 32,
   "metadata": {},
   "outputs": [
    {
     "data": {
      "text/plain": [
       "[-1.571082894002096,\n",
       " -2.146827522908346,\n",
       " -1.7799347082721155,\n",
       " 0.7854775190353394,\n",
       " 1.5707573890686035,\n",
       " 1.1984225238848012e-05]"
      ]
     },
     "execution_count": 32,
     "metadata": {},
     "output_type": "execute_result"
    }
   ],
   "source": [
    "r.movej(j_draw_origin, acc=1.0, vel=v)"
   ]
  },
  {
   "cell_type": "code",
   "execution_count": 18,
   "metadata": {},
   "outputs": [
    {
     "data": {
      "text/plain": [
       "<Transform:\n",
       "<Orientation: \n",
       "array([[-1.   ,  0.003, -0.006],\n",
       "       [ 0.006, -0.001, -1.   ],\n",
       "       [-0.003, -1.   ,  0.001]])>\n",
       "<Vector: (-0.21194, -0.66584, 0.16262)>\n",
       ">"
      ]
     },
     "execution_count": 18,
     "metadata": {},
     "output_type": "execute_result"
    }
   ],
   "source": [
    "r.translate_tool((0, 0.1,0))"
   ]
  },
  {
   "cell_type": "code",
   "execution_count": 16,
   "metadata": {},
   "outputs": [
    {
     "name": "stdout",
     "output_type": "stream",
     "text": [
      "Move to home\n"
     ]
    }
   ],
   "source": [
    "move_home()\n",
    "r.movej(j_draw_origin, acc=1.0, vel=v)\n",
    "sleep(2) # sleep for two seconds\n",
    "# Turn on s.u.c.k.s\n",
    "r.set_digital_out(0, True)\n",
    "sleep(2)\n",
    "# Turn off s.u.c.k.s\n",
    "r.set_digital_out(0, False)\n"
   ]
  },
  {
   "cell_type": "code",
   "execution_count": 40,
   "metadata": {},
   "outputs": [
    {
     "name": "stdout",
     "output_type": "stream",
     "text": [
      "Move to home\n"
     ]
    },
    {
     "name": "stderr",
     "output_type": "stream",
     "text": [
      "Exception in thread Thread-4:\n",
      "Traceback (most recent call last):\n",
      "  File \"/System/Library/Frameworks/Python.framework/Versions/2.7/lib/python2.7/threading.py\", line 801, in __bootstrap_inner\n",
      "    self.run()\n",
      "  File \"/Users/localadmin/.local/share/virtualenvs/Paint_Robot-kmk6Xvnn/lib/python2.7/site-packages/urx/ursecmon.py\", line 291, in run\n",
      "    data = self._get_data()\n",
      "  File \"/Users/localadmin/.local/share/virtualenvs/Paint_Robot-kmk6Xvnn/lib/python2.7/site-packages/urx/ursecmon.py\", line 338, in _get_data\n",
      "    tmp = self._s_secondary.recv(1024)\n",
      "timeout: timed out\n",
      "\n"
     ]
    }
   ],
   "source": [
    "move_home()\n",
    "r.movej(j_draw_origin, acc=1.0, vel=v)\n",
    "sleep(2) # sleep for two seconds\n",
    "# Turn on s.u.c.k.s\n",
    "r.set_digital_out(1, True) \n",
    "sleep(2)\n",
    "\n",
    "# draw rectangle \n",
    "# draw line \n",
    "length = 0.025 \n",
    "delta_l = 0.025\n",
    "\n",
    "\n",
    "# draw rectangle \n",
    "# draw line \n",
    "length = 0.015 \n",
    "delta_l = 0.015\n",
    "\n",
    "for i in range(4):\n",
    "    r.translate_tool((-length, 0,0),  acc=1.0, vel=v)\n",
    "    r.translate_tool((0, length,0),  acc=1.0, vel=v)\n",
    "    length = length + delta_l\n",
    "    r.translate_tool((length, 0,0),  acc=1.0, vel=v)\n",
    "    r.translate_tool((0, -length,0),  acc=1.0, vel=v)   \n",
    "    length = length + delta_l\n",
    "\n",
    "\n",
    "# Start Drawing \n",
    "#r.translate_tool()\n",
    "# Turn off s.u.c.k.s\n",
    "sleep(5)\n",
    "r.set_digital_out(1, False)"
   ]
  },
  {
   "cell_type": "code",
   "execution_count": 34,
   "metadata": {},
   "outputs": [],
   "source": [
    "# draw rectangle \n",
    "# draw line \n",
    "length = 0.025 \n",
    "delta_l = 0.025\n",
    "\n",
    "for i in range(5):\n",
    "    r.translate_tool((-length, 0,0),  acc=1.0, vel=v)\n",
    "    r.translate_tool((0, length,0),  acc=1.0, vel=v)\n",
    "    length = length + delta_l\n",
    "    r.translate_tool((length, 0,0),  acc=1.0, vel=v)\n",
    "    r.translate_tool((0, -length,0),  acc=1.0, vel=v)"
   ]
  },
  {
   "cell_type": "code",
   "execution_count": null,
   "metadata": {},
   "outputs": [],
   "source": [
    "move"
   ]
  }
 ],
 "metadata": {
  "kernelspec": {
   "display_name": "Python 2",
   "language": "python",
   "name": "python2"
  },
  "language_info": {
   "codemirror_mode": {
    "name": "ipython",
    "version": 2
   },
   "file_extension": ".py",
   "mimetype": "text/x-python",
   "name": "python",
   "nbconvert_exporter": "python",
   "pygments_lexer": "ipython2",
   "version": "2.7.16"
  }
 },
 "nbformat": 4,
 "nbformat_minor": 2
}
